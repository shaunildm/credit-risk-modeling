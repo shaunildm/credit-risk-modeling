{
 "cells": [
  {
   "cell_type": "markdown",
   "metadata": {},
   "source": [
    "# Credit Risk Modelling\n",
    "\n",
    "The focus of this project is on credit and risk modeling. We will use data from the peer-to-peer lending service, [Lending Club](https://www.lendingclub.com) to see if we can create a model that can accurately predict whether or not a borrower will pay off their loan on time in order to create a conservative personal investment plan. \n",
    "\n",
    "Each prospective borrower applies by providing financial history, the loans purpose, and other credit relevant data and Lending Club assigns an interest rate and grade to the loan or rejects the loan by using their own models. A loan with a higher interest rate with generate a higher return with a higher risk. Conversly, a loan with a lower interest will have lower risk and lower return. As conservative investors, we would like to create a model that can provide us with accurate and relevant predictions.\n",
    "\n",
    "\n",
    "## Understanding the Data\n",
    "\n",
    "Lending Club has loan data available on there [website](https://www.lendingclub.com/info/download-data.action), which requires the creation of an account to access. They have data available from 2007 to quarter 2, 2019. For the focus of our model we only want data about loans that have already either succesfully have been paid off or defaulted. Considering that the term of the loans are either 36 or 60 months, we will have to choose the data sets that are at least 5 years or older. For this reason we will only select data sets from 2007 to 2013 for the purposes of creating the model. We can use data from more recent years when actually implementing the model, at a later date. Let's begin by reading in the data.\n"
   ]
  },
  {
   "cell_type": "code",
   "execution_count": 1,
   "metadata": {},
   "outputs": [],
   "source": [
    "# load in the data\n",
    "import numpy as np\n",
    "import pandas as pd\n",
    "import matplotlib.pyplot as plt\n",
    "import seaborn as sns\n",
    "%matplotlib inline\n",
    "\n",
    "# data from 2007 - 2011\n",
    "loans_07 = pd.read_csv(\"LoanStats3a_securev1.csv\", low_memory=False, header=1)\n",
    "\n",
    "# data from 2012-2013\n",
    "loans_12 = pd.read_csv(\"LoanStats3b_securev1.csv\", low_memory=False, header=1)"
   ]
  },
  {
   "cell_type": "code",
   "execution_count": 2,
   "metadata": {
    "scrolled": false
   },
   "outputs": [
    {
     "name": "stdout",
     "output_type": "stream",
     "text": [
      "(42538, 150)\n",
      "(188183, 150)\n"
     ]
    }
   ],
   "source": [
    "# display number of rows and columns of each data set\n",
    "print(loans_07.shape)\n",
    "print(loans_12.shape)"
   ]
  },
  {
   "cell_type": "markdown",
   "metadata": {},
   "source": [
    "## Combining data\n",
    "\n",
    "Since these data sets share the same columns, we can merge them and clean the data as one as the data isn't too large."
   ]
  },
  {
   "cell_type": "code",
   "execution_count": 3,
   "metadata": {},
   "outputs": [
    {
     "name": "stdout",
     "output_type": "stream",
     "text": [
      "(230721, 150)\n"
     ]
    }
   ],
   "source": [
    "# concat both data frames into one data frame `loans`\n",
    "loans = pd.concat([loans_07, loans_12], axis=0).drop_duplicates().reset_index(drop=True)\n",
    "print(loans.shape)"
   ]
  },
  {
   "cell_type": "code",
   "execution_count": 4,
   "metadata": {
    "scrolled": true
   },
   "outputs": [
    {
     "data": {
      "text/html": [
       "<div>\n",
       "<style scoped>\n",
       "    .dataframe tbody tr th:only-of-type {\n",
       "        vertical-align: middle;\n",
       "    }\n",
       "\n",
       "    .dataframe tbody tr th {\n",
       "        vertical-align: top;\n",
       "    }\n",
       "\n",
       "    .dataframe thead th {\n",
       "        text-align: right;\n",
       "    }\n",
       "</style>\n",
       "<table border=\"1\" class=\"dataframe\">\n",
       "  <thead>\n",
       "    <tr style=\"text-align: right;\">\n",
       "      <th></th>\n",
       "      <th>id</th>\n",
       "      <th>member_id</th>\n",
       "      <th>loan_amnt</th>\n",
       "      <th>funded_amnt</th>\n",
       "      <th>funded_amnt_inv</th>\n",
       "      <th>term</th>\n",
       "      <th>int_rate</th>\n",
       "      <th>installment</th>\n",
       "      <th>grade</th>\n",
       "      <th>sub_grade</th>\n",
       "      <th>...</th>\n",
       "      <th>orig_projected_additional_accrued_interest</th>\n",
       "      <th>hardship_payoff_balance_amount</th>\n",
       "      <th>hardship_last_payment_amount</th>\n",
       "      <th>debt_settlement_flag</th>\n",
       "      <th>debt_settlement_flag_date</th>\n",
       "      <th>settlement_status</th>\n",
       "      <th>settlement_date</th>\n",
       "      <th>settlement_amount</th>\n",
       "      <th>settlement_percentage</th>\n",
       "      <th>settlement_term</th>\n",
       "    </tr>\n",
       "  </thead>\n",
       "  <tbody>\n",
       "    <tr>\n",
       "      <th>0</th>\n",
       "      <td>1077501</td>\n",
       "      <td>NaN</td>\n",
       "      <td>5000.0</td>\n",
       "      <td>5000.0</td>\n",
       "      <td>4975.0</td>\n",
       "      <td>36 months</td>\n",
       "      <td>10.65%</td>\n",
       "      <td>162.87</td>\n",
       "      <td>B</td>\n",
       "      <td>B2</td>\n",
       "      <td>...</td>\n",
       "      <td>NaN</td>\n",
       "      <td>NaN</td>\n",
       "      <td>NaN</td>\n",
       "      <td>N</td>\n",
       "      <td>NaN</td>\n",
       "      <td>NaN</td>\n",
       "      <td>NaN</td>\n",
       "      <td>NaN</td>\n",
       "      <td>NaN</td>\n",
       "      <td>NaN</td>\n",
       "    </tr>\n",
       "    <tr>\n",
       "      <th>1</th>\n",
       "      <td>1077430</td>\n",
       "      <td>NaN</td>\n",
       "      <td>2500.0</td>\n",
       "      <td>2500.0</td>\n",
       "      <td>2500.0</td>\n",
       "      <td>60 months</td>\n",
       "      <td>15.27%</td>\n",
       "      <td>59.83</td>\n",
       "      <td>C</td>\n",
       "      <td>C4</td>\n",
       "      <td>...</td>\n",
       "      <td>NaN</td>\n",
       "      <td>NaN</td>\n",
       "      <td>NaN</td>\n",
       "      <td>N</td>\n",
       "      <td>NaN</td>\n",
       "      <td>NaN</td>\n",
       "      <td>NaN</td>\n",
       "      <td>NaN</td>\n",
       "      <td>NaN</td>\n",
       "      <td>NaN</td>\n",
       "    </tr>\n",
       "    <tr>\n",
       "      <th>2</th>\n",
       "      <td>1077175</td>\n",
       "      <td>NaN</td>\n",
       "      <td>2400.0</td>\n",
       "      <td>2400.0</td>\n",
       "      <td>2400.0</td>\n",
       "      <td>36 months</td>\n",
       "      <td>15.96%</td>\n",
       "      <td>84.33</td>\n",
       "      <td>C</td>\n",
       "      <td>C5</td>\n",
       "      <td>...</td>\n",
       "      <td>NaN</td>\n",
       "      <td>NaN</td>\n",
       "      <td>NaN</td>\n",
       "      <td>N</td>\n",
       "      <td>NaN</td>\n",
       "      <td>NaN</td>\n",
       "      <td>NaN</td>\n",
       "      <td>NaN</td>\n",
       "      <td>NaN</td>\n",
       "      <td>NaN</td>\n",
       "    </tr>\n",
       "    <tr>\n",
       "      <th>3</th>\n",
       "      <td>1076863</td>\n",
       "      <td>NaN</td>\n",
       "      <td>10000.0</td>\n",
       "      <td>10000.0</td>\n",
       "      <td>10000.0</td>\n",
       "      <td>36 months</td>\n",
       "      <td>13.49%</td>\n",
       "      <td>339.31</td>\n",
       "      <td>C</td>\n",
       "      <td>C1</td>\n",
       "      <td>...</td>\n",
       "      <td>NaN</td>\n",
       "      <td>NaN</td>\n",
       "      <td>NaN</td>\n",
       "      <td>N</td>\n",
       "      <td>NaN</td>\n",
       "      <td>NaN</td>\n",
       "      <td>NaN</td>\n",
       "      <td>NaN</td>\n",
       "      <td>NaN</td>\n",
       "      <td>NaN</td>\n",
       "    </tr>\n",
       "    <tr>\n",
       "      <th>4</th>\n",
       "      <td>1075358</td>\n",
       "      <td>NaN</td>\n",
       "      <td>3000.0</td>\n",
       "      <td>3000.0</td>\n",
       "      <td>3000.0</td>\n",
       "      <td>60 months</td>\n",
       "      <td>12.69%</td>\n",
       "      <td>67.79</td>\n",
       "      <td>B</td>\n",
       "      <td>B5</td>\n",
       "      <td>...</td>\n",
       "      <td>NaN</td>\n",
       "      <td>NaN</td>\n",
       "      <td>NaN</td>\n",
       "      <td>N</td>\n",
       "      <td>NaN</td>\n",
       "      <td>NaN</td>\n",
       "      <td>NaN</td>\n",
       "      <td>NaN</td>\n",
       "      <td>NaN</td>\n",
       "      <td>NaN</td>\n",
       "    </tr>\n",
       "  </tbody>\n",
       "</table>\n",
       "<p>5 rows × 150 columns</p>\n",
       "</div>"
      ],
      "text/plain": [
       "        id  member_id  loan_amnt  funded_amnt  funded_amnt_inv        term  \\\n",
       "0  1077501        NaN     5000.0       5000.0           4975.0   36 months   \n",
       "1  1077430        NaN     2500.0       2500.0           2500.0   60 months   \n",
       "2  1077175        NaN     2400.0       2400.0           2400.0   36 months   \n",
       "3  1076863        NaN    10000.0      10000.0          10000.0   36 months   \n",
       "4  1075358        NaN     3000.0       3000.0           3000.0   60 months   \n",
       "\n",
       "  int_rate  installment grade sub_grade       ...        \\\n",
       "0   10.65%       162.87     B        B2       ...         \n",
       "1   15.27%        59.83     C        C4       ...         \n",
       "2   15.96%        84.33     C        C5       ...         \n",
       "3   13.49%       339.31     C        C1       ...         \n",
       "4   12.69%        67.79     B        B5       ...         \n",
       "\n",
       "  orig_projected_additional_accrued_interest hardship_payoff_balance_amount  \\\n",
       "0                                        NaN                            NaN   \n",
       "1                                        NaN                            NaN   \n",
       "2                                        NaN                            NaN   \n",
       "3                                        NaN                            NaN   \n",
       "4                                        NaN                            NaN   \n",
       "\n",
       "  hardship_last_payment_amount  debt_settlement_flag  \\\n",
       "0                          NaN                     N   \n",
       "1                          NaN                     N   \n",
       "2                          NaN                     N   \n",
       "3                          NaN                     N   \n",
       "4                          NaN                     N   \n",
       "\n",
       "  debt_settlement_flag_date settlement_status settlement_date  \\\n",
       "0                       NaN               NaN             NaN   \n",
       "1                       NaN               NaN             NaN   \n",
       "2                       NaN               NaN             NaN   \n",
       "3                       NaN               NaN             NaN   \n",
       "4                       NaN               NaN             NaN   \n",
       "\n",
       "  settlement_amount settlement_percentage settlement_term  \n",
       "0               NaN                   NaN             NaN  \n",
       "1               NaN                   NaN             NaN  \n",
       "2               NaN                   NaN             NaN  \n",
       "3               NaN                   NaN             NaN  \n",
       "4               NaN                   NaN             NaN  \n",
       "\n",
       "[5 rows x 150 columns]"
      ]
     },
     "execution_count": 4,
     "metadata": {},
     "output_type": "execute_result"
    }
   ],
   "source": [
    "loans.head()"
   ]
  },
  {
   "cell_type": "code",
   "execution_count": 5,
   "metadata": {},
   "outputs": [
    {
     "data": {
      "text/html": [
       "<div>\n",
       "<style scoped>\n",
       "    .dataframe tbody tr th:only-of-type {\n",
       "        vertical-align: middle;\n",
       "    }\n",
       "\n",
       "    .dataframe tbody tr th {\n",
       "        vertical-align: top;\n",
       "    }\n",
       "\n",
       "    .dataframe thead th {\n",
       "        text-align: right;\n",
       "    }\n",
       "</style>\n",
       "<table border=\"1\" class=\"dataframe\">\n",
       "  <thead>\n",
       "    <tr style=\"text-align: right;\">\n",
       "      <th></th>\n",
       "      <th>id</th>\n",
       "      <th>member_id</th>\n",
       "      <th>loan_amnt</th>\n",
       "      <th>funded_amnt</th>\n",
       "      <th>funded_amnt_inv</th>\n",
       "      <th>term</th>\n",
       "      <th>int_rate</th>\n",
       "      <th>installment</th>\n",
       "      <th>grade</th>\n",
       "      <th>sub_grade</th>\n",
       "      <th>...</th>\n",
       "      <th>orig_projected_additional_accrued_interest</th>\n",
       "      <th>hardship_payoff_balance_amount</th>\n",
       "      <th>hardship_last_payment_amount</th>\n",
       "      <th>debt_settlement_flag</th>\n",
       "      <th>debt_settlement_flag_date</th>\n",
       "      <th>settlement_status</th>\n",
       "      <th>settlement_date</th>\n",
       "      <th>settlement_amount</th>\n",
       "      <th>settlement_percentage</th>\n",
       "      <th>settlement_term</th>\n",
       "    </tr>\n",
       "  </thead>\n",
       "  <tbody>\n",
       "    <tr>\n",
       "      <th>230716</th>\n",
       "      <td>1059224</td>\n",
       "      <td>NaN</td>\n",
       "      <td>35000.0</td>\n",
       "      <td>35000.0</td>\n",
       "      <td>35000.0</td>\n",
       "      <td>36 months</td>\n",
       "      <td>15.96%</td>\n",
       "      <td>1229.81</td>\n",
       "      <td>C</td>\n",
       "      <td>C5</td>\n",
       "      <td>...</td>\n",
       "      <td>NaN</td>\n",
       "      <td>NaN</td>\n",
       "      <td>NaN</td>\n",
       "      <td>N</td>\n",
       "      <td>NaN</td>\n",
       "      <td>NaN</td>\n",
       "      <td>NaN</td>\n",
       "      <td>NaN</td>\n",
       "      <td>NaN</td>\n",
       "      <td>NaN</td>\n",
       "    </tr>\n",
       "    <tr>\n",
       "      <th>230717</th>\n",
       "      <td>1058722</td>\n",
       "      <td>NaN</td>\n",
       "      <td>12000.0</td>\n",
       "      <td>12000.0</td>\n",
       "      <td>12000.0</td>\n",
       "      <td>36 months</td>\n",
       "      <td>16.29%</td>\n",
       "      <td>423.61</td>\n",
       "      <td>D</td>\n",
       "      <td>D1</td>\n",
       "      <td>...</td>\n",
       "      <td>NaN</td>\n",
       "      <td>NaN</td>\n",
       "      <td>NaN</td>\n",
       "      <td>N</td>\n",
       "      <td>NaN</td>\n",
       "      <td>NaN</td>\n",
       "      <td>NaN</td>\n",
       "      <td>NaN</td>\n",
       "      <td>NaN</td>\n",
       "      <td>NaN</td>\n",
       "    </tr>\n",
       "    <tr>\n",
       "      <th>230718</th>\n",
       "      <td>1058291</td>\n",
       "      <td>NaN</td>\n",
       "      <td>12000.0</td>\n",
       "      <td>7775.0</td>\n",
       "      <td>7775.0</td>\n",
       "      <td>60 months</td>\n",
       "      <td>15.27%</td>\n",
       "      <td>186.08</td>\n",
       "      <td>C</td>\n",
       "      <td>C4</td>\n",
       "      <td>...</td>\n",
       "      <td>NaN</td>\n",
       "      <td>NaN</td>\n",
       "      <td>NaN</td>\n",
       "      <td>N</td>\n",
       "      <td>NaN</td>\n",
       "      <td>NaN</td>\n",
       "      <td>NaN</td>\n",
       "      <td>NaN</td>\n",
       "      <td>NaN</td>\n",
       "      <td>NaN</td>\n",
       "    </tr>\n",
       "    <tr>\n",
       "      <th>230719</th>\n",
       "      <td>Total amount funded in policy code 1: 2700702175</td>\n",
       "      <td>NaN</td>\n",
       "      <td>NaN</td>\n",
       "      <td>NaN</td>\n",
       "      <td>NaN</td>\n",
       "      <td>NaN</td>\n",
       "      <td>NaN</td>\n",
       "      <td>NaN</td>\n",
       "      <td>NaN</td>\n",
       "      <td>NaN</td>\n",
       "      <td>...</td>\n",
       "      <td>NaN</td>\n",
       "      <td>NaN</td>\n",
       "      <td>NaN</td>\n",
       "      <td>NaN</td>\n",
       "      <td>NaN</td>\n",
       "      <td>NaN</td>\n",
       "      <td>NaN</td>\n",
       "      <td>NaN</td>\n",
       "      <td>NaN</td>\n",
       "      <td>NaN</td>\n",
       "    </tr>\n",
       "    <tr>\n",
       "      <th>230720</th>\n",
       "      <td>Total amount funded in policy code 2: 81866225</td>\n",
       "      <td>NaN</td>\n",
       "      <td>NaN</td>\n",
       "      <td>NaN</td>\n",
       "      <td>NaN</td>\n",
       "      <td>NaN</td>\n",
       "      <td>NaN</td>\n",
       "      <td>NaN</td>\n",
       "      <td>NaN</td>\n",
       "      <td>NaN</td>\n",
       "      <td>...</td>\n",
       "      <td>NaN</td>\n",
       "      <td>NaN</td>\n",
       "      <td>NaN</td>\n",
       "      <td>NaN</td>\n",
       "      <td>NaN</td>\n",
       "      <td>NaN</td>\n",
       "      <td>NaN</td>\n",
       "      <td>NaN</td>\n",
       "      <td>NaN</td>\n",
       "      <td>NaN</td>\n",
       "    </tr>\n",
       "  </tbody>\n",
       "</table>\n",
       "<p>5 rows × 150 columns</p>\n",
       "</div>"
      ],
      "text/plain": [
       "                                                      id  member_id  \\\n",
       "230716                                           1059224        NaN   \n",
       "230717                                           1058722        NaN   \n",
       "230718                                           1058291        NaN   \n",
       "230719  Total amount funded in policy code 1: 2700702175        NaN   \n",
       "230720    Total amount funded in policy code 2: 81866225        NaN   \n",
       "\n",
       "        loan_amnt  funded_amnt  funded_amnt_inv        term int_rate  \\\n",
       "230716    35000.0      35000.0          35000.0   36 months   15.96%   \n",
       "230717    12000.0      12000.0          12000.0   36 months   16.29%   \n",
       "230718    12000.0       7775.0           7775.0   60 months   15.27%   \n",
       "230719        NaN          NaN              NaN         NaN      NaN   \n",
       "230720        NaN          NaN              NaN         NaN      NaN   \n",
       "\n",
       "        installment grade sub_grade       ...        \\\n",
       "230716      1229.81     C        C5       ...         \n",
       "230717       423.61     D        D1       ...         \n",
       "230718       186.08     C        C4       ...         \n",
       "230719          NaN   NaN       NaN       ...         \n",
       "230720          NaN   NaN       NaN       ...         \n",
       "\n",
       "       orig_projected_additional_accrued_interest  \\\n",
       "230716                                        NaN   \n",
       "230717                                        NaN   \n",
       "230718                                        NaN   \n",
       "230719                                        NaN   \n",
       "230720                                        NaN   \n",
       "\n",
       "       hardship_payoff_balance_amount hardship_last_payment_amount  \\\n",
       "230716                            NaN                          NaN   \n",
       "230717                            NaN                          NaN   \n",
       "230718                            NaN                          NaN   \n",
       "230719                            NaN                          NaN   \n",
       "230720                            NaN                          NaN   \n",
       "\n",
       "        debt_settlement_flag debt_settlement_flag_date settlement_status  \\\n",
       "230716                     N                       NaN               NaN   \n",
       "230717                     N                       NaN               NaN   \n",
       "230718                     N                       NaN               NaN   \n",
       "230719                   NaN                       NaN               NaN   \n",
       "230720                   NaN                       NaN               NaN   \n",
       "\n",
       "       settlement_date settlement_amount settlement_percentage settlement_term  \n",
       "230716             NaN               NaN                   NaN             NaN  \n",
       "230717             NaN               NaN                   NaN             NaN  \n",
       "230718             NaN               NaN                   NaN             NaN  \n",
       "230719             NaN               NaN                   NaN             NaN  \n",
       "230720             NaN               NaN                   NaN             NaN  \n",
       "\n",
       "[5 rows x 150 columns]"
      ]
     },
     "execution_count": 5,
     "metadata": {},
     "output_type": "execute_result"
    }
   ],
   "source": [
    "loans.tail()"
   ]
  },
  {
   "cell_type": "code",
   "execution_count": 6,
   "metadata": {
    "scrolled": false
   },
   "outputs": [
    {
     "data": {
      "text/plain": [
       "id                                             object\n",
       "member_id                                     float64\n",
       "loan_amnt                                     float64\n",
       "funded_amnt                                   float64\n",
       "funded_amnt_inv                               float64\n",
       "term                                           object\n",
       "int_rate                                       object\n",
       "installment                                   float64\n",
       "grade                                          object\n",
       "sub_grade                                      object\n",
       "emp_title                                      object\n",
       "emp_length                                     object\n",
       "home_ownership                                 object\n",
       "annual_inc                                    float64\n",
       "verification_status                            object\n",
       "issue_d                                        object\n",
       "loan_status                                    object\n",
       "pymnt_plan                                     object\n",
       "url                                            object\n",
       "desc                                           object\n",
       "purpose                                        object\n",
       "title                                          object\n",
       "zip_code                                       object\n",
       "addr_state                                     object\n",
       "dti                                           float64\n",
       "delinq_2yrs                                   float64\n",
       "earliest_cr_line                               object\n",
       "fico_range_low                                float64\n",
       "fico_range_high                               float64\n",
       "inq_last_6mths                                float64\n",
       "                                               ...   \n",
       "sec_app_mort_acc                              float64\n",
       "sec_app_open_acc                              float64\n",
       "sec_app_revol_util                            float64\n",
       "sec_app_open_act_il                           float64\n",
       "sec_app_num_rev_accts                         float64\n",
       "sec_app_chargeoff_within_12_mths              float64\n",
       "sec_app_collections_12_mths_ex_med            float64\n",
       "sec_app_mths_since_last_major_derog           float64\n",
       "hardship_flag                                  object\n",
       "hardship_type                                  object\n",
       "hardship_reason                                object\n",
       "hardship_status                                object\n",
       "deferral_term                                 float64\n",
       "hardship_amount                               float64\n",
       "hardship_start_date                            object\n",
       "hardship_end_date                              object\n",
       "payment_plan_start_date                        object\n",
       "hardship_length                               float64\n",
       "hardship_dpd                                  float64\n",
       "hardship_loan_status                           object\n",
       "orig_projected_additional_accrued_interest    float64\n",
       "hardship_payoff_balance_amount                float64\n",
       "hardship_last_payment_amount                  float64\n",
       "debt_settlement_flag                           object\n",
       "debt_settlement_flag_date                      object\n",
       "settlement_status                              object\n",
       "settlement_date                                object\n",
       "settlement_amount                             float64\n",
       "settlement_percentage                         float64\n",
       "settlement_term                               float64\n",
       "Length: 150, dtype: object"
      ]
     },
     "execution_count": 6,
     "metadata": {},
     "output_type": "execute_result"
    }
   ],
   "source": [
    "loans.dtypes"
   ]
  },
  {
   "cell_type": "markdown",
   "metadata": {},
   "source": [
    "### Target column:\n",
    "\n",
    "Using the [data dictionary](https://resources.lendingclub.com/LCDataDictionary.xlsx), we can define our target column as `loan_status` because it describes whether a loan was paid off on time, was delayed, or went into default. This column contains text values which we will need to convert to numeric ones."
   ]
  },
  {
   "cell_type": "code",
   "execution_count": 7,
   "metadata": {
    "scrolled": true
   },
   "outputs": [
    {
     "name": "stdout",
     "output_type": "stream",
     "text": [
      "Fully Paid                                             192626\n",
      "Charged Off                                             35341\n",
      "Does not meet the credit policy. Status:Fully Paid       1988\n",
      "Does not meet the credit policy. Status:Charged Off       761\n",
      "Name: loan_status, dtype: int64\n"
     ]
    }
   ],
   "source": [
    "print(loans['loan_status'].value_counts())"
   ]
  },
  {
   "cell_type": "markdown",
   "metadata": {},
   "source": [
    "Only the `Fully Paid` and `Charged Off` values describe the outcome fo the loan. The other categories describe loans that are still ongoing and thus will no add any value to our models or are in some new payment agreement, regardless there just aren't enough of these cases to warrant keeping them for our model. By using just the `Fully Paid` and `Charged Off` values we can turn this into a **binary classification** problem. We need to transform `Fully Paid`'s value into 1 for a positive case and `Charge Off` into 0 to represent a negative case. "
   ]
  },
  {
   "cell_type": "code",
   "execution_count": 8,
   "metadata": {},
   "outputs": [],
   "source": [
    "loans = loans[(loans['loan_status'] == 'Fully Paid') | (loans['loan_status'] == 'Charged Off')]\n",
    "\n",
    "status_replace = {\n",
    "    'loan_status' : {\n",
    "        'Fully Paid' : 1,\n",
    "        'Charged Off' : 0,\n",
    "    }\n",
    "}\n",
    "\n",
    "loans = loans.replace(status_replace)\n"
   ]
  },
  {
   "cell_type": "code",
   "execution_count": 9,
   "metadata": {
    "scrolled": true
   },
   "outputs": [
    {
     "name": "stdout",
     "output_type": "stream",
     "text": [
      "1    192626\n",
      "0     35341\n",
      "Name: loan_status, dtype: int64\n"
     ]
    }
   ],
   "source": [
    "print(loans['loan_status'].value_counts())"
   ]
  },
  {
   "cell_type": "markdown",
   "metadata": {},
   "source": [
    "## Data Cleaning\n",
    "\n",
    "The data has 230721 rows and a 150 columns with varying amounts of data types, this will need to be reduced somehow. The main focus of cleaning is for performance in our machine learning models. The [data dictionary](https://resources.lendingclub.com/LCDataDictionary.xlsx) can give us some insight on which columns to remove:\n",
    "\n",
    "- non-contributing columns: columns where the information does not alter the ability of the borrower to pay back the loan like ID values for example\n",
    "- data format: data formatted poorly will need to be cleaned up or some data may be too time intensive\n",
    "- data redundancy: any data that repeats information found possibly in another column\n",
    "- data leakage: data from the future that could disrupt our model, columns with data containing information about the loan after it has been funded like whether it has been paid off or not.\n",
    "\n",
    "We will use data visualization for further analysis on whether a column will work in our model or not. After this we can again use data visualization to help remove any missing vales, create categorical data for columns, and find any correlations between our feature and target columns.\n",
    "\n",
    "### Non-contributing columns & data format:\n",
    "\n",
    "We will eliminate any non-contributing columns. Things like `id`, `member_id`, `url`, and `policy_code` will not add any value to our models and are randomely generated by Lending Club. We will also remove columns that may have data like `emp_title`, `desc`, `debt_settlement_flag`, `issue_d`, or `initial_list_status` that would require complex analysis to make useful and still would not likely benefit our models."
   ]
  },
  {
   "cell_type": "code",
   "execution_count": 10,
   "metadata": {},
   "outputs": [],
   "source": [
    "# remove non-contributing columns and columns with unacceptable data formats\n",
    "loans = loans.drop(['id', 'member_id', 'emp_title', 'url', 'policy_code', 'desc', 'debt_settlement_flag', \n",
    "                    'issue_d', 'initial_list_status'], axis=1)"
   ]
  },
  {
   "cell_type": "markdown",
   "metadata": {},
   "source": [
    "### Data redundancy:\n",
    "\n",
    "The next step is to sort through redundant data. The `zip_code` column only contains 3 digits to protect the privacy of the borrowers, these 3 digits only give the state in which the borrower resides in making this column contain the same information as `addr_state`. Columns `grade` and `sub-grade` have data contained in `int_rate` so we will need to decide which one to use. We can graph the correlations differences for some insight. We will need to convert `int_rate` to numeric data and strip it's `%` sign."
   ]
  },
  {
   "cell_type": "code",
   "execution_count": 11,
   "metadata": {},
   "outputs": [],
   "source": [
    "# convert columns to numeric data\n",
    "loans['int_rate'] = loans['int_rate'].str.rstrip('%').astype('float')"
   ]
  },
  {
   "cell_type": "markdown",
   "metadata": {},
   "source": [
    "Let's look at the `int_rate` of each grade."
   ]
  },
  {
   "cell_type": "code",
   "execution_count": 12,
   "metadata": {
    "scrolled": false
   },
   "outputs": [
    {
     "name": "stderr",
     "output_type": "stream",
     "text": [
      "/anaconda3/lib/python3.7/site-packages/scipy/stats/stats.py:1713: FutureWarning: Using a non-tuple sequence for multidimensional indexing is deprecated; use `arr[tuple(seq)]` instead of `arr[seq]`. In the future this will be interpreted as an array index, `arr[np.array(seq)]`, which will result either in an error or a different result.\n",
      "  return np.add.reduce(sorted[indexer] * weights, axis=axis) / sumval\n"
     ]
    },
    {
     "data": {
      "image/png": "[encoded data removed]",
      "text/plain": [
       "<Figure size 1080x720 with 1 Axes>"
      ]
     },
     "metadata": {},
     "output_type": "display_data"
    }
   ],
   "source": [
    "sns.set(rc={'figure.figsize':(15,10)})\n",
    "sns.violinplot(x=\"grade\", y=\"int_rate\", data=loans, palette='viridis', order=\"ABCDEFG\",hue='loan_status',split=True)\n",
    "plt.title(\"Interest Rate - Grade\", fontsize=20)\n",
    "plt.xlabel(\"Grade\", fontsize=15)\n",
    "plt.ylabel(\"Interest Rate\", fontsize=15);"
   ]
  },
  {
   "cell_type": "markdown",
   "metadata": {},
   "source": [
    "We see that `int_rate` contains the information in `grade` and thus `sub_grade` so we will drop those two columns and keep `int_rate` for our model."
   ]
  },
  {
   "cell_type": "code",
   "execution_count": 13,
   "metadata": {},
   "outputs": [],
   "source": [
    "# remove columns containing data redundancy\n",
    "loans = loans.drop(['zip_code', 'grade', 'sub_grade'], axis=1)"
   ]
  },
  {
   "cell_type": "markdown",
   "metadata": {},
   "source": [
    "### Data leakage:\n",
    "\n",
    "We need to remove any columns that contain any information that could leak data to the prediction model. So columns: `funded_amnt`, `funded_amnt_inv`, `out_prncp`, `out_prncp_inv`, `total_pymnt`, `total_pymnt_inv`, `total_rec_prncp`, `total_rec_int`, `total_rec_late_fee`, `recoveries`, `collection_recovery_fee`, `last_pymnt_d`, and `last_pymnt_amnt` all give away information on whether the loan was succesfully paid off or not which would disrupt our model from correctly predicting that information correctly."
   ]
  },
  {
   "cell_type": "code",
   "execution_count": 14,
   "metadata": {},
   "outputs": [],
   "source": [
    "# remove columns that leak data from the future and disrupt our prediction models\n",
    "loans = loans.drop([\n",
    "    'funded_amnt', 'funded_amnt_inv', 'out_prncp', 'out_prncp_inv', 'total_pymnt', 'total_pymnt_inv', \n",
    "    'total_rec_prncp', 'total_rec_int', 'total_rec_late_fee', 'recoveries', 'collection_recovery_fee', \n",
    "    'last_pymnt_d', 'last_pymnt_amnt'\n",
    "                         ], axis=1)"
   ]
  },
  {
   "cell_type": "markdown",
   "metadata": {},
   "source": [
    "### Unique values:\n",
    "\n",
    "Let's remove any columns that contain only one unique value as they won't be useful for any of our machine learning models. Columns with only one unique value will not help our model make predictions."
   ]
  },
  {
   "cell_type": "code",
   "execution_count": 15,
   "metadata": {},
   "outputs": [
    {
     "name": "stdout",
     "output_type": "stream",
     "text": [
      "['pymnt_plan', 'application_type', 'hardship_flag', 'hardship_type', 'deferral_term', 'hardship_length']\n"
     ]
    }
   ],
   "source": [
    "# remove any columns that only contain one unique value and display\n",
    "orig_columns = loans.columns\n",
    "drop_columns = []\n",
    "for col in orig_columns:\n",
    "    col_series = loans[col].dropna().unique()\n",
    "    if len(col_series) == 1:\n",
    "        drop_columns.append(col)\n",
    "        \n",
    "loans = loans.drop(drop_columns, axis=1)\n",
    "print(drop_columns)"
   ]
  },
  {
   "cell_type": "markdown",
   "metadata": {},
   "source": [
    "## Feature Preperation\n",
    "\n",
    "Our machine learning models will require the columns in the data to be numeric. Columns with missing values will also not work. We will go through our data and prepare so that it can succesfully go through our model.\n",
    "\n",
    "### Null values:\n",
    "\n",
    "Let's see which columns have null values."
   ]
  },
  {
   "cell_type": "code",
   "execution_count": 16,
   "metadata": {},
   "outputs": [
    {
     "name": "stdout",
     "output_type": "stream",
     "text": [
      "emp_length                                      8965\n",
      "title                                             18\n",
      "mths_since_last_delinq                        133300\n",
      "mths_since_last_record                        207702\n",
      "revol_util                                       175\n",
      "next_pymnt_d                                  227967\n",
      "last_credit_pull_d                                12\n",
      "collections_12_mths_ex_med                        56\n",
      "mths_since_last_major_derog                   195451\n",
      "annual_inc_joint                              227967\n",
      "dti_joint                                     227967\n",
      "verification_status_joint                     227967\n",
      "tot_coll_amt                                   67527\n",
      "tot_cur_bal                                    67527\n",
      "open_acc_6m                                   227967\n",
      "open_act_il                                   227967\n",
      "open_il_12m                                   227967\n",
      "open_il_24m                                   227967\n",
      "mths_since_rcnt_il                            227967\n",
      "total_bal_il                                  227967\n",
      "il_util                                       227967\n",
      "open_rv_12m                                   227967\n",
      "open_rv_24m                                   227967\n",
      "max_bal_bc                                    227967\n",
      "all_util                                      227967\n",
      "total_rev_hi_lim                               67527\n",
      "inq_fi                                        227967\n",
      "total_cu_tl                                   227967\n",
      "inq_last_12m                                  227967\n",
      "acc_open_past_24mths                           47281\n",
      "                                               ...  \n",
      "revol_bal_joint                               227967\n",
      "sec_app_fico_range_low                        227967\n",
      "sec_app_fico_range_high                       227967\n",
      "sec_app_earliest_cr_line                      227967\n",
      "sec_app_inq_last_6mths                        227967\n",
      "sec_app_mort_acc                              227967\n",
      "sec_app_open_acc                              227967\n",
      "sec_app_revol_util                            227967\n",
      "sec_app_open_act_il                           227967\n",
      "sec_app_num_rev_accts                         227967\n",
      "sec_app_chargeoff_within_12_mths              227967\n",
      "sec_app_collections_12_mths_ex_med            227967\n",
      "sec_app_mths_since_last_major_derog           227967\n",
      "hardship_reason                               227887\n",
      "hardship_status                               227887\n",
      "hardship_amount                               227887\n",
      "hardship_start_date                           227887\n",
      "hardship_end_date                             227887\n",
      "payment_plan_start_date                       227887\n",
      "hardship_dpd                                  227887\n",
      "hardship_loan_status                          227887\n",
      "orig_projected_additional_accrued_interest    227898\n",
      "hardship_payoff_balance_amount                227887\n",
      "hardship_last_payment_amount                  227887\n",
      "debt_settlement_flag_date                     225739\n",
      "settlement_status                             225739\n",
      "settlement_date                               225739\n",
      "settlement_amount                             225739\n",
      "settlement_percentage                         225739\n",
      "settlement_term                               225739\n",
      "Length: 95, dtype: int64\n"
     ]
    }
   ],
   "source": [
    "# display columns with null values\n",
    "null_counts = loans.isnull().sum()\n",
    "print(null_counts[null_counts>0])"
   ]
  },
  {
   "cell_type": "markdown",
   "metadata": {},
   "source": [
    "A lot of columns are missing data. Let's remove any column that is missing more than 50% of its data."
   ]
  },
  {
   "cell_type": "code",
   "execution_count": 17,
   "metadata": {},
   "outputs": [
    {
     "name": "stdout",
     "output_type": "stream",
     "text": [
      "emp_length                     8965\n",
      "title                            18\n",
      "revol_util                      175\n",
      "last_credit_pull_d               12\n",
      "collections_12_mths_ex_med       56\n",
      "tot_coll_amt                  67527\n",
      "tot_cur_bal                   67527\n",
      "total_rev_hi_lim              67527\n",
      "acc_open_past_24mths          47281\n",
      "avg_cur_bal                   67533\n",
      "bc_open_to_buy                48811\n",
      "bc_util                       48898\n",
      "chargeoff_within_12_mths         56\n",
      "mo_sin_old_il_acct            73658\n",
      "mo_sin_old_rev_tl_op          67528\n",
      "mo_sin_rcnt_rev_tl_op         67528\n",
      "mo_sin_rcnt_tl                67527\n",
      "mort_acc                      47281\n",
      "mths_since_recent_bc          48614\n",
      "mths_since_recent_inq         67654\n",
      "num_accts_ever_120_pd         67527\n",
      "num_actv_bc_tl                67527\n",
      "num_actv_rev_tl               67527\n",
      "num_bc_sats                   55841\n",
      "num_bc_tl                     67527\n",
      "num_il_tl                     67527\n",
      "num_op_rev_tl                 67527\n",
      "num_rev_accts                 67527\n",
      "num_rev_tl_bal_gt_0           67527\n",
      "num_sats                      55841\n",
      "num_tl_120dpd_2m              67783\n",
      "num_tl_30dpd                  67527\n",
      "num_tl_90g_dpd_24m            67527\n",
      "num_tl_op_past_12m            67527\n",
      "pct_tl_nvr_dlq                67680\n",
      "percent_bc_gt_75              48814\n",
      "pub_rec_bankruptcies            697\n",
      "tax_liens                        39\n",
      "tot_hi_cred_lim               67527\n",
      "total_bal_ex_mort             47281\n",
      "total_bc_limit                47281\n",
      "total_il_high_credit_limit    67527\n",
      "dtype: int64\n"
     ]
    }
   ],
   "source": [
    "# remove any columns that contain 50% or more NaN values\n",
    "pct_null = loans.isnull().sum() / len(loans)\n",
    "missing_features = pct_null[pct_null > 0.50].index\n",
    "loans.drop(missing_features, axis=1, inplace=True)\n",
    "\n",
    "# display columns with remaining NaN values\n",
    "null_counts = loans.isnull().sum()\n",
    "print(null_counts[null_counts>0])"
   ]
  },
  {
   "cell_type": "markdown",
   "metadata": {},
   "source": [
    "Considering there are still many columns with relatively large amounts of missing data, we will drop any columns that are missing at least 15% of there data."
   ]
  },
  {
   "cell_type": "code",
   "execution_count": 18,
   "metadata": {},
   "outputs": [
    {
     "name": "stdout",
     "output_type": "stream",
     "text": [
      "emp_length                    8965\n",
      "title                           18\n",
      "revol_util                     175\n",
      "last_credit_pull_d              12\n",
      "collections_12_mths_ex_med      56\n",
      "chargeoff_within_12_mths        56\n",
      "pub_rec_bankruptcies           697\n",
      "tax_liens                       39\n",
      "dtype: int64\n"
     ]
    }
   ],
   "source": [
    "# remove any columns that contain 50% or more NaN values\n",
    "pct_null = loans.isnull().sum() / len(loans)\n",
    "missing_features = pct_null[pct_null > 0.15].index\n",
    "loans.drop(missing_features, axis=1, inplace=True)\n",
    "\n",
    "# display columns with remaining NaN values\n",
    "null_counts = loans.isnull().sum()\n",
    "print(null_counts[null_counts>0])"
   ]
  },
  {
   "cell_type": "markdown",
   "metadata": {},
   "source": [
    "The `emp_length` and `pub_rec_bankruptcies` variables still have a lot of null values, let's explore the data for these columns."
   ]
  },
  {
   "cell_type": "code",
   "execution_count": 19,
   "metadata": {},
   "outputs": [
    {
     "name": "stdout",
     "output_type": "stream",
     "text": [
      " 0.0    0.921445\n",
      " 1.0    0.074081\n",
      "NaN     0.003057\n",
      " 2.0    0.001127\n",
      " 3.0    0.000167\n",
      " 4.0    0.000079\n",
      " 5.0    0.000018\n",
      " 6.0    0.000018\n",
      " 7.0    0.000004\n",
      " 8.0    0.000004\n",
      "Name: pub_rec_bankruptcies, dtype: float64\n"
     ]
    }
   ],
   "source": [
    "# display the number of unique values in `pub_rec_bankruptcies` column\n",
    "print(loans.pub_rec_bankruptcies.value_counts(normalize=True, dropna=False))"
   ]
  },
  {
   "cell_type": "markdown",
   "metadata": {},
   "source": [
    "Considering that around 92% of the values are unique, this column will not add any value to our predective models so we will drop this column. The `emp_length` is too important to our models to drop, so we will just remove the missing data from this column, along with any of the other missing data from the other columns since they aren't missing much data compared to the other columns we have removed."
   ]
  },
  {
   "cell_type": "code",
   "execution_count": 20,
   "metadata": {},
   "outputs": [],
   "source": [
    "# drop `pub_rec_bankruptcies` and any remaining Nan values in the remaining columns of the data set\n",
    "loans = loans.drop('pub_rec_bankruptcies', axis=1)\n",
    "loans = loans.dropna(axis=0)"
   ]
  },
  {
   "cell_type": "code",
   "execution_count": 21,
   "metadata": {
    "scrolled": true
   },
   "outputs": [
    {
     "data": {
      "text/plain": [
       "loan_amnt                     0\n",
       "term                          0\n",
       "int_rate                      0\n",
       "installment                   0\n",
       "emp_length                    0\n",
       "home_ownership                0\n",
       "annual_inc                    0\n",
       "verification_status           0\n",
       "loan_status                   0\n",
       "purpose                       0\n",
       "title                         0\n",
       "addr_state                    0\n",
       "dti                           0\n",
       "delinq_2yrs                   0\n",
       "earliest_cr_line              0\n",
       "fico_range_low                0\n",
       "fico_range_high               0\n",
       "inq_last_6mths                0\n",
       "open_acc                      0\n",
       "pub_rec                       0\n",
       "revol_bal                     0\n",
       "revol_util                    0\n",
       "total_acc                     0\n",
       "last_credit_pull_d            0\n",
       "last_fico_range_high          0\n",
       "last_fico_range_low           0\n",
       "collections_12_mths_ex_med    0\n",
       "acc_now_delinq                0\n",
       "chargeoff_within_12_mths      0\n",
       "delinq_amnt                   0\n",
       "tax_liens                     0\n",
       "dtype: int64"
      ]
     },
     "execution_count": 21,
     "metadata": {},
     "output_type": "execute_result"
    }
   ],
   "source": [
    "# display columns with remaining NaN values\n",
    "loans.isna().sum()"
   ]
  },
  {
   "cell_type": "markdown",
   "metadata": {},
   "source": [
    "We have removed or filled all missing values.\n",
    "\n",
    "### Converting to numerical data:\n",
    "\n",
    "We will now convert our object data into numeric values."
   ]
  },
  {
   "cell_type": "code",
   "execution_count": 22,
   "metadata": {},
   "outputs": [
    {
     "name": "stdout",
     "output_type": "stream",
     "text": [
      "float64    20\n",
      "object     10\n",
      "int64       1\n",
      "dtype: int64\n"
     ]
    }
   ],
   "source": [
    "# display the different types of data in our remaing columns\n",
    "print(loans.dtypes.value_counts())"
   ]
  },
  {
   "cell_type": "code",
   "execution_count": 23,
   "metadata": {},
   "outputs": [
    {
     "name": "stdout",
     "output_type": "stream",
     "text": [
      "term                     36 months\n",
      "emp_length               10+ years\n",
      "home_ownership                RENT\n",
      "verification_status       Verified\n",
      "purpose                credit_card\n",
      "title                     Computer\n",
      "addr_state                      AZ\n",
      "earliest_cr_line          Jan-1985\n",
      "revol_util                   83.7%\n",
      "last_credit_pull_d        May-2019\n",
      "Name: 0, dtype: object\n"
     ]
    }
   ],
   "source": [
    "# display the data that are `object` types\n",
    "object_columns_df = loans.select_dtypes(include=['object'])\n",
    "print(object_columns_df.iloc[0])"
   ]
  },
  {
   "cell_type": "markdown",
   "metadata": {},
   "source": [
    "According the [data dictionary](https://resources.lendingclub.com/LCDataDictionary.xlsx), a lot of these values can be translated into categorical values which we can run through our model:\n",
    "\n",
    "- home_ownership: home ownership status, can only be 1 of 4 categorical values according to the data dictionary\n",
    "- verification_status: indicates if income was verified by Lending Club\n",
    "- emp_length: number of years the borrower was employed upon time of application\n",
    "- term: number of payments on the loan, either 36 or 60\n",
    "- addr_state: borrower's state of residence\n",
    "- purpose: a category provided by the borrower for the loan request\n",
    "- title: loan title provided the borrower\n",
    "\n",
    "Let's verify through checking the amount of unique values in each of these columns."
   ]
  },
  {
   "cell_type": "code",
   "execution_count": 24,
   "metadata": {},
   "outputs": [
    {
     "name": "stdout",
     "output_type": "stream",
     "text": [
      "MORTGAGE    110366\n",
      "RENT         91241\n",
      "OWN          16961\n",
      "OTHER          139\n",
      "NONE            42\n",
      "Name: home_ownership, dtype: int64\n",
      "Verified           93725\n",
      "Not Verified       74887\n",
      "Source Verified    50137\n",
      "Name: verification_status, dtype: int64\n",
      "10+ years    70046\n",
      "2 years      20518\n",
      "3 years      18049\n",
      "< 1 year     17767\n",
      "5 years      17538\n",
      "1 year       14653\n",
      "4 years      14269\n",
      "6 years      14135\n",
      "7 years      12969\n",
      "8 years      10429\n",
      "9 years       8376\n",
      "Name: emp_length, dtype: int64\n",
      " 36 months    165239\n",
      " 60 months     53510\n",
      "Name: term, dtype: int64\n",
      "CA    36458\n",
      "NY    19237\n",
      "TX    16748\n",
      "FL    14938\n",
      "NJ     8786\n",
      "IL     8520\n",
      "PA     7574\n",
      "VA     6973\n",
      "GA     6971\n",
      "OH     6791\n",
      "NC     5911\n",
      "MA     5579\n",
      "MD     5158\n",
      "WA     5123\n",
      "MI     4946\n",
      "AZ     4863\n",
      "CO     4576\n",
      "MN     3716\n",
      "CT     3531\n",
      "MO     3481\n",
      "NV     3091\n",
      "OR     2864\n",
      "AL     2648\n",
      "WI     2642\n",
      "LA     2595\n",
      "SC     2471\n",
      "IN     2212\n",
      "KS     1984\n",
      "TN     1948\n",
      "KY     1935\n",
      "OK     1889\n",
      "UT     1696\n",
      "AR     1579\n",
      "HI     1240\n",
      "NM     1130\n",
      "NH     1027\n",
      "WV     1013\n",
      "RI      971\n",
      "DC      763\n",
      "MT      627\n",
      "AK      625\n",
      "DE      558\n",
      "WY      521\n",
      "SD      455\n",
      "VT      343\n",
      "MS       22\n",
      "ID        7\n",
      "IA        6\n",
      "NE        5\n",
      "ME        2\n",
      "Name: addr_state, dtype: int64\n"
     ]
    }
   ],
   "source": [
    "# display the unique values of the categorical columns\n",
    "unique_ct = ['home_ownership', 'verification_status', 'emp_length', 'term', 'addr_state']\n",
    "\n",
    "for c in unique_ct:\n",
    "    print(loans[c].value_counts())"
   ]
  },
  {
   "cell_type": "code",
   "execution_count": 25,
   "metadata": {},
   "outputs": [
    {
     "name": "stdout",
     "output_type": "stream",
     "text": [
      "Debt consolidation                         22376\n",
      "Debt Consolidation                         15055\n",
      "Credit card refinancing                     7451\n",
      "Consolidation                               5096\n",
      "debt consolidation                          4430\n",
      "Debt Consolidation Loan                     3654\n",
      "Other                                       2309\n",
      "Credit Card Consolidation                   2217\n",
      "Personal Loan                               1998\n",
      "consolidation                               1981\n",
      "Home improvement                            1837\n",
      "Consolidation Loan                          1711\n",
      "Home Improvement                            1660\n",
      "Credit Card Refinance                       1399\n",
      "Credit Card Payoff                          1311\n",
      "Consolidate                                 1195\n",
      "Personal                                    1112\n",
      "Business                                    1105\n",
      "Loan                                         994\n",
      "Major purchase                               756\n",
      "Credit Card Loan                             743\n",
      "Freedom                                      741\n",
      "consolidate                                  707\n",
      "Debt                                         694\n",
      "personal                                     678\n",
      "personal loan                                674\n",
      "Credit Cards                                 619\n",
      "Payoff                                       613\n",
      "home improvement                             609\n",
      "payoff                                       574\n",
      "                                           ...  \n",
      "10K Wedding loan                               1\n",
      "Internet Startup Working Capital               1\n",
      "Business online                                1\n",
      "New Company Investment                         1\n",
      "ford truck                                     1\n",
      "debtcons.                                      1\n",
      "Consolidating debt, refi to better rate        1\n",
      "Credit Card Debt Reduction Loan                1\n",
      "2012summerloan                                 1\n",
      "Credit Consolidation Management                1\n",
      "wedding bell blues                             1\n",
      "freeing the future                             1\n",
      "Consolidation 11/11                            1\n",
      "CLean up loan                                  1\n",
      "cerdit card refinance                          1\n",
      "help1                                          1\n",
      "refer update                                   1\n",
      "TaxPayment                                     1\n",
      "Creidt Card Loan                               1\n",
      "Kindness Assistance Loan                       1\n",
      "Break Free                                     1\n",
      "Debtfree loan                                  1\n",
      "home emprovement                               1\n",
      "New Payment Plan                               1\n",
      "Alicia's loan                                  1\n",
      "credit care/Home improvement                   1\n",
      "Bob 25/60                                      1\n",
      "bstubber                                       1\n",
      "Debt Considation Loan                          1\n",
      "Lower Level                                    1\n",
      "Name: title, Length: 58491, dtype: int64\n",
      "debt_consolidation    125492\n",
      "credit_card            46097\n",
      "home_improvement       12592\n",
      "other                  12149\n",
      "major_purchase          5594\n",
      "small_business          4465\n",
      "car                     3356\n",
      "wedding                 2244\n",
      "medical                 2094\n",
      "moving                  1539\n",
      "house                   1410\n",
      "vacation                1199\n",
      "educational              309\n",
      "renewable_energy         209\n",
      "Name: purpose, dtype: int64\n"
     ]
    }
   ],
   "source": [
    "# display the data in `title` and `purpose` columns\n",
    "print(loans[\"title\"].value_counts())\n",
    "print(loans[\"purpose\"].value_counts())"
   ]
  },
  {
   "cell_type": "markdown",
   "metadata": {},
   "source": [
    "The `last_credit_pull_d`, `addr_state`, `earliest_cr_line`, and `title` columns will not add much predictive power to our models or are overly complex so we will remove these columns."
   ]
  },
  {
   "cell_type": "code",
   "execution_count": 26,
   "metadata": {},
   "outputs": [],
   "source": [
    "# remove columns that will not contribute to the predictive models\n",
    "loans = loans.drop(['last_credit_pull_d', 'addr_state', 'earliest_cr_line', 'title'], axis=1)"
   ]
  },
  {
   "cell_type": "markdown",
   "metadata": {},
   "source": [
    "The `revol_util` column needs to be converted from an interest rate to a float."
   ]
  },
  {
   "cell_type": "code",
   "execution_count": 27,
   "metadata": {},
   "outputs": [],
   "source": [
    "# convert column to numeric data\n",
    "loans['revol_util'] = loans['revol_util'].str.rstrip('%').astype('float')"
   ]
  },
  {
   "cell_type": "markdown",
   "metadata": {},
   "source": [
    "The `emp_length`, `home_ownership`, `verification_status`, and `term` can be converted into categorical values which will be more effective in relation to our predictive power. We encode these columns as dummy variables in order to do this.\n",
    "\n",
    "Let's graph the distrubtion of `emp_length` for issued loans to help categorize this variable."
   ]
  },
  {
   "cell_type": "code",
   "execution_count": 28,
   "metadata": {},
   "outputs": [
    {
     "data": {
      "image/png": "[encoded data removed]",
      "text/plain": [
       "<Figure size 1080x576 with 1 Axes>"
      ]
     },
     "metadata": {},
     "output_type": "display_data"
    }
   ],
   "source": [
    "sns.set(rc={'figure.figsize':(15,8)})\n",
    "sns.countplot(loans['emp_length'],palette='rocket')\n",
    "plt.xlabel(\"Length\")\n",
    "plt.ylabel(\"Count\")\n",
    "plt.title(\"Distribution of Employement Length For Issued Loans\")\n",
    "plt.show()"
   ]
  },
  {
   "cell_type": "markdown",
   "metadata": {},
   "source": [
    "We can safely say that the majority of loans issued from Lending Club are from borrowers employed 10+ years so we will convert `emp_length` into categorical float values."
   ]
  },
  {
   "cell_type": "code",
   "execution_count": 29,
   "metadata": {},
   "outputs": [],
   "source": [
    "# convert `emp_length` into categorical float values\n",
    "mapping_dict = {\n",
    "    \"emp_length\": {\n",
    "        \"10+ years\": 10,\n",
    "        \"9 years\": 9,\n",
    "        \"8 years\": 8,\n",
    "        \"7 years\": 7,\n",
    "        \"6 years\": 6,\n",
    "        \"5 years\": 5,\n",
    "        \"4 years\": 4,\n",
    "        \"3 years\": 3,\n",
    "        \"2 years\": 2,\n",
    "        \"1 year\": 1,\n",
    "        \"< 1 year\": 0,\n",
    "        \"n/a\": 0\n",
    "    }\n",
    "}\n",
    "\n",
    "loans = loans.replace(mapping_dict)"
   ]
  },
  {
   "cell_type": "code",
   "execution_count": 30,
   "metadata": {},
   "outputs": [],
   "source": [
    "# encode selected columns into dummy variables\n",
    "cat_columns = [\"home_ownership\", \"verification_status\", \"purpose\", \"term\"]\n",
    "dummy_df = pd.get_dummies(loans[cat_columns])\n",
    "loans = pd.concat([loans, dummy_df], axis=1)\n",
    "loans = loans.drop(cat_columns, axis=1)"
   ]
  },
  {
   "cell_type": "code",
   "execution_count": 31,
   "metadata": {
    "scrolled": true
   },
   "outputs": [
    {
     "data": {
      "text/plain": [
       "loan_amnt                              float64\n",
       "int_rate                               float64\n",
       "installment                            float64\n",
       "emp_length                               int64\n",
       "annual_inc                             float64\n",
       "loan_status                              int64\n",
       "dti                                    float64\n",
       "delinq_2yrs                            float64\n",
       "fico_range_low                         float64\n",
       "fico_range_high                        float64\n",
       "inq_last_6mths                         float64\n",
       "open_acc                               float64\n",
       "pub_rec                                float64\n",
       "revol_bal                              float64\n",
       "revol_util                             float64\n",
       "total_acc                              float64\n",
       "last_fico_range_high                   float64\n",
       "last_fico_range_low                    float64\n",
       "collections_12_mths_ex_med             float64\n",
       "acc_now_delinq                         float64\n",
       "chargeoff_within_12_mths               float64\n",
       "delinq_amnt                            float64\n",
       "tax_liens                              float64\n",
       "home_ownership_MORTGAGE                  uint8\n",
       "home_ownership_NONE                      uint8\n",
       "home_ownership_OTHER                     uint8\n",
       "home_ownership_OWN                       uint8\n",
       "home_ownership_RENT                      uint8\n",
       "verification_status_Not Verified         uint8\n",
       "verification_status_Source Verified      uint8\n",
       "verification_status_Verified             uint8\n",
       "purpose_car                              uint8\n",
       "purpose_credit_card                      uint8\n",
       "purpose_debt_consolidation               uint8\n",
       "purpose_educational                      uint8\n",
       "purpose_home_improvement                 uint8\n",
       "purpose_house                            uint8\n",
       "purpose_major_purchase                   uint8\n",
       "purpose_medical                          uint8\n",
       "purpose_moving                           uint8\n",
       "purpose_other                            uint8\n",
       "purpose_renewable_energy                 uint8\n",
       "purpose_small_business                   uint8\n",
       "purpose_vacation                         uint8\n",
       "purpose_wedding                          uint8\n",
       "term_ 36 months                          uint8\n",
       "term_ 60 months                          uint8\n",
       "dtype: object"
      ]
     },
     "execution_count": 31,
     "metadata": {},
     "output_type": "execute_result"
    }
   ],
   "source": [
    "loans.dtypes"
   ]
  },
  {
   "cell_type": "code",
   "execution_count": 32,
   "metadata": {
    "scrolled": true
   },
   "outputs": [
    {
     "data": {
      "text/plain": [
       "loan_amnt                              0\n",
       "int_rate                               0\n",
       "installment                            0\n",
       "emp_length                             0\n",
       "annual_inc                             0\n",
       "loan_status                            0\n",
       "dti                                    0\n",
       "delinq_2yrs                            0\n",
       "fico_range_low                         0\n",
       "fico_range_high                        0\n",
       "inq_last_6mths                         0\n",
       "open_acc                               0\n",
       "pub_rec                                0\n",
       "revol_bal                              0\n",
       "revol_util                             0\n",
       "total_acc                              0\n",
       "last_fico_range_high                   0\n",
       "last_fico_range_low                    0\n",
       "collections_12_mths_ex_med             0\n",
       "acc_now_delinq                         0\n",
       "chargeoff_within_12_mths               0\n",
       "delinq_amnt                            0\n",
       "tax_liens                              0\n",
       "home_ownership_MORTGAGE                0\n",
       "home_ownership_NONE                    0\n",
       "home_ownership_OTHER                   0\n",
       "home_ownership_OWN                     0\n",
       "home_ownership_RENT                    0\n",
       "verification_status_Not Verified       0\n",
       "verification_status_Source Verified    0\n",
       "verification_status_Verified           0\n",
       "purpose_car                            0\n",
       "purpose_credit_card                    0\n",
       "purpose_debt_consolidation             0\n",
       "purpose_educational                    0\n",
       "purpose_home_improvement               0\n",
       "purpose_house                          0\n",
       "purpose_major_purchase                 0\n",
       "purpose_medical                        0\n",
       "purpose_moving                         0\n",
       "purpose_other                          0\n",
       "purpose_renewable_energy               0\n",
       "purpose_small_business                 0\n",
       "purpose_vacation                       0\n",
       "purpose_wedding                        0\n",
       "term_ 36 months                        0\n",
       "term_ 60 months                        0\n",
       "dtype: int64"
      ]
     },
     "execution_count": 32,
     "metadata": {},
     "output_type": "execute_result"
    }
   ],
   "source": [
    "loans.isna().sum()"
   ]
  },
  {
   "cell_type": "markdown",
   "metadata": {},
   "source": [
    "## Prediction Models\n",
    "\n",
    "Our data shows a severe class imbalance, we have a ratio of 5.5 `Fully Paid` loans to every one `Charged Off` loans. This is generally good news as more loans are paid back then charged off. However, we want our model to be accurate so we will use a confusion matrix to help define our **error metric**. This diagram from and article from [towardsdatascience](https://towardsdatascience.com/understanding-confusion-matrix-a9ad42dcfd62) gives a picture of predicted values and actual values categorized into true positives, true negatives, false positives, and false negatives.\n",
    "\n",
    "![data1](https://miro.medium.com/max/712/1*Z54JgbS4DUwWSknhDCvNTQ.png)\n",
    "\n",
    "We describe predicted values as positive and negative and actual values as true and false.\n",
    "\n",
    "![data2](https://miro.medium.com/max/880/1*2lptVD05HarbzGKiZ44l5A.png)\n",
    "\n",
    "\n",
    "\n",
    "#### False Postives\n",
    "\n",
    "False positive rate is the number of false positives divided by the number of false positives plus the number of true negatives. This divides all the cases where we thought a loan would be paid off but it wasn't by all the loans that weren't paid off. We can use the formula:\n",
    "\n",
    "`fpr = fp / (fp + tn)`\n",
    "\n",
    "#### True Positives\n",
    "\n",
    "True positive rate is the number of true positives divided by the number of true positives plus the number of false negatives. This divides all the cases where we thought a loan would be paid off and it was by all the loans that were paid off. We can use this formula:\n",
    "\n",
    "`tpr = tp / (tp + fn)`\n",
    "\n",
    "\n",
    "We will be using sklearn tools and pipelines including `predict_proba` which will give our prediction probabilites in an array form. In our particular binary classification problem, the `predict_proba` will give the probability of 0 and the probability of 1 which will correspond to `fpr` and `tpr` which we will graph.\n",
    "\n",
    "Using the confusion matrix should ensure that our models are not overfitting or being thrown off by the class imbalance.\n",
    "\n",
    "\n",
    "## Models\n",
    "\n",
    "Let's instantiate our first models. In order to fit the machine learning models, we'll use the Scikit-learn library and pipelines to apply normalization or scaling procedures. We will run preliminary models with basic class balancing.\n",
    "\n",
    "### Logistic regression:\n",
    "\n",
    "We will split the model into training and testing data then scale the data and insantiate our model through a pipeline."
   ]
  },
  {
   "cell_type": "code",
   "execution_count": 33,
   "metadata": {},
   "outputs": [],
   "source": [
    "# split data into training and testing data\n",
    "\n",
    "X = loans.drop('loan_status', axis=1)\n",
    "y = loans['loan_status']\n",
    "\n",
    "\n",
    "from sklearn.model_selection import train_test_split\n",
    "X_train, X_test, y_train, y_test = train_test_split(X, y, test_size=0.5, random_state=0)"
   ]
  },
  {
   "cell_type": "code",
   "execution_count": 34,
   "metadata": {},
   "outputs": [],
   "source": [
    "# import sklearn tools\n",
    "from sklearn.preprocessing import MinMaxScaler\n",
    "from sklearn.linear_model import LogisticRegression\n",
    "from sklearn.pipeline import Pipeline\n",
    "\n",
    "# transform which scales between 1 and 0\n",
    "sc = MinMaxScaler()\n",
    "# instantiate model using a balance class weight\n",
    "lr = LogisticRegression(class_weight='balanced', random_state=1)\n",
    "# applies transformation on logistic regression model using a pipeline\n",
    "pipe_lr = Pipeline([('scaler', sc), ('lr', lr)])"
   ]
  },
  {
   "cell_type": "code",
   "execution_count": 35,
   "metadata": {
    "scrolled": true
   },
   "outputs": [
    {
     "name": "stderr",
     "output_type": "stream",
     "text": [
      "/anaconda3/lib/python3.7/site-packages/sklearn/preprocessing/data.py:323: DataConversionWarning: Data with input dtype uint8, int64, float64 were all converted to float64 by MinMaxScaler.\n",
      "  return self.partial_fit(X, y)\n",
      "/anaconda3/lib/python3.7/site-packages/sklearn/linear_model/logistic.py:433: FutureWarning: Default solver will be changed to 'lbfgs' in 0.22. Specify a solver to silence this warning.\n",
      "  FutureWarning)\n"
     ]
    },
    {
     "data": {
      "text/plain": [
       "Pipeline(memory=None,\n",
       "     steps=[('scaler', MinMaxScaler(copy=True, feature_range=(0, 1))), ('lr', LogisticRegression(C=1.0, class_weight='balanced', dual=False,\n",
       "          fit_intercept=True, intercept_scaling=1, max_iter=100,\n",
       "          multi_class='warn', n_jobs=None, penalty='l2', random_state=1,\n",
       "          solver='warn', tol=0.0001, verbose=0, warm_start=False))])"
      ]
     },
     "execution_count": 35,
     "metadata": {},
     "output_type": "execute_result"
    }
   ],
   "source": [
    "# train model using the the transformed insantiated logistic regression model\n",
    "pipe_lr.fit(X_train, y_train)"
   ]
  },
  {
   "cell_type": "markdown",
   "metadata": {},
   "source": [
    "### Evaluating logistic regression: AUROC \n",
    "\n",
    "To evaluate our model we will use the Area Under the Receiver Operating Characteristics or \"AUROC\" curve to check the performance of our model. The ROC curve is plotted with TPR against the FPR where TPR is on y-axis and FPR is on the x-axis which represents probability. The AUC is the area underneath this curve. Higher AUC signifies that our model is better at predicting negative cases as negative cases(true negatives) and predicting positive cases as positive cases(true positives). "
   ]
  },
  {
   "cell_type": "code",
   "execution_count": 36,
   "metadata": {},
   "outputs": [
    {
     "name": "stdout",
     "output_type": "stream",
     "text": [
      "No Skill ROC-AUC score: 0.50\n",
      "Linear Regression ROC-AUC score: 0.89\n"
     ]
    },
    {
     "data": {
      "image/png": "[encoded data removed]",
      "text/plain": [
       "<Figure size 1080x576 with 1 Axes>"
      ]
     },
     "metadata": {},
     "output_type": "display_data"
    }
   ],
   "source": [
    "# predict probabilites and keeps only positive outcomes\n",
    "test_probas_lr = pipe_lr.predict_proba(X_test)[:,1]\n",
    "\n",
    "# import metric libraries\n",
    "from sklearn.metrics import roc_auc_score\n",
    "from sklearn.metrics import roc_curve\n",
    "\n",
    "# generate a no skill prediction\n",
    "ns_probs = [0 for _ in range(len(y_test))]\n",
    "\n",
    "# calculate scores\n",
    "ns_auc = roc_auc_score(y_test, ns_probs)\n",
    "lr_auc = roc_auc_score(y_test, test_probas_lr)\n",
    "\n",
    "print('No Skill ROC-AUC score: %.2f' % ns_auc)\n",
    "print('Linear Regression ROC-AUC score: %.2f' % lr_auc)\n",
    "\n",
    "# calculate roc curves\n",
    "ns_fpr, ns_tpr, _ = roc_curve(y_test, ns_probs)\n",
    "lr_fpr, lr_tpr, _ = roc_curve(y_test, test_probas_lr)\n",
    "\n",
    "# plot the roc curve for the model\n",
    "plt.plot(ns_fpr, ns_tpr, linestyle='--', label='No Skill', color='blue')\n",
    "plt.plot(lr_fpr, lr_tpr, linestyle='--', label=\"Logistic Regression\", color='red')\n",
    "\n",
    "# axis labels\n",
    "plt.xlabel('False Positive Rate')\n",
    "plt.ylabel('True Positive Rate')\n",
    "# show the legend\n",
    "plt.legend()\n",
    "# show the plot\n",
    "plt.show()\n",
    "\n",
    "# # calculate roc curve for false positive, true positive, and threshold rates\n",
    "# fpr, tpr, tresholds = roc_curve(y_test, test_probas_lr)\n",
    "# plt.plot(fpr, tpr, linestyle='--', label='')\n",
    "# plt.title('ROC')\n",
    "# plt.xlabel('FPR')\n",
    "# plt.ylabel('TPR')\n",
    "\n",
    "# print('Linear Regression ROC-AUC score: %.2f' % roc_auc_score(y_test, test_probas_lr))\n",
    "\n",
    "\n"
   ]
  },
  {
   "cell_type": "markdown",
   "metadata": {},
   "source": [
    "Logistic regression seems to be pretty accurate with a ROC-AUC-score of around 89%. Let's try some other models.\n",
    "\n",
    "### Random Forst Classifer"
   ]
  },
  {
   "cell_type": "code",
   "execution_count": 37,
   "metadata": {},
   "outputs": [],
   "source": [
    "from sklearn.ensemble import RandomForestClassifier\n",
    "\n",
    "#instantiate random forest classifier with a balanced class weight\n",
    "rfc = RandomForestClassifier(class_weight='balanced', random_state=1)\n",
    "\n",
    "pipe_rfc = Pipeline([('scaler', sc), ('rfc', rfc)])"
   ]
  },
  {
   "cell_type": "code",
   "execution_count": 38,
   "metadata": {},
   "outputs": [
    {
     "name": "stderr",
     "output_type": "stream",
     "text": [
      "/anaconda3/lib/python3.7/site-packages/sklearn/preprocessing/data.py:323: DataConversionWarning: Data with input dtype uint8, int64, float64 were all converted to float64 by MinMaxScaler.\n",
      "  return self.partial_fit(X, y)\n",
      "/anaconda3/lib/python3.7/site-packages/sklearn/ensemble/forest.py:246: FutureWarning: The default value of n_estimators will change from 10 in version 0.20 to 100 in 0.22.\n",
      "  \"10 in version 0.20 to 100 in 0.22.\", FutureWarning)\n"
     ]
    },
    {
     "data": {
      "text/plain": [
       "Pipeline(memory=None,\n",
       "     steps=[('scaler', MinMaxScaler(copy=True, feature_range=(0, 1))), ('rfc', RandomForestClassifier(bootstrap=True, class_weight='balanced',\n",
       "            criterion='gini', max_depth=None, max_features='auto',\n",
       "            max_leaf_nodes=None, min_impurity_decrease=0.0,\n",
       "            min_impurity_split=None...imators=10, n_jobs=None, oob_score=False, random_state=1,\n",
       "            verbose=0, warm_start=False))])"
      ]
     },
     "execution_count": 38,
     "metadata": {},
     "output_type": "execute_result"
    }
   ],
   "source": [
    "# train model using the the transformed insantiated random forest model\n",
    "pipe_rfc.fit(X_train, y_train)"
   ]
  },
  {
   "cell_type": "code",
   "execution_count": 39,
   "metadata": {
    "scrolled": false
   },
   "outputs": [
    {
     "name": "stdout",
     "output_type": "stream",
     "text": [
      "No Skill ROC-AUC score: 0.50\n",
      "Linear Regression ROC-AUC score: 0.89\n",
      "Random Forest Classifier ROC-AUC score: 0.86\n"
     ]
    },
    {
     "data": {
      "image/png": "[encoded data removed]",
      "text/plain": [
       "<Figure size 1080x576 with 1 Axes>"
      ]
     },
     "metadata": {},
     "output_type": "display_data"
    }
   ],
   "source": [
    "# predict probabilites and keep only positive outcomes\n",
    "test_probas_rfc = pipe_rfc.predict_proba(X_test)[:,1]\n",
    "\n",
    "\n",
    "# calculate scores\n",
    "rfc_auc = roc_auc_score(y_test, test_probas_rfc)\n",
    "\n",
    "print('No Skill ROC-AUC score: %.2f' % ns_auc)\n",
    "print('Linear Regression ROC-AUC score: %.2f' % lr_auc)\n",
    "print('Random Forest Classifier ROC-AUC score: %.2f' % rfc_auc)\n",
    "\n",
    "# calculate roc curves\n",
    "rfc_fpr, rfc_tpr, _ = roc_curve(y_test, test_probas_rfc)\n",
    "\n",
    "# plot the roc curve for the model\n",
    "plt.plot(ns_fpr, ns_tpr, linestyle='--', label='No Skill')\n",
    "plt.plot(lr_fpr, lr_tpr, linestyle='--', label=\"Logistic Regression\", color='red')\n",
    "plt.plot(rfc_fpr, rfc_tpr, linestyle='--', label=\"Random Forest Classifier\", color='green')\n",
    "\n",
    "\n",
    "# axis labels\n",
    "plt.xlabel('False Positive Rate')\n",
    "plt.ylabel('True Positive Rate')\n",
    "# show the legend\n",
    "plt.legend()\n",
    "# show the plot\n",
    "plt.show()\n",
    "\n",
    "\n",
    "# fpr, tpr, tresholds = roc_curve(y_test, test_probas_rfc)\n",
    "# plt.plot(fpr, tpr)\n",
    "# plt.title('ROC')\n",
    "# plt.xlabel('FPR')\n",
    "# plt.ylabel('TPR')\n",
    "\n",
    "# print('Random Forest ROC-AUC score: %.2f' % roc_auc_score(y_test, test_probas_rfc))\n"
   ]
  },
  {
   "cell_type": "markdown",
   "metadata": {},
   "source": [
    "Random forest classification scored less than logistic regression. Let's try one more model."
   ]
  },
  {
   "cell_type": "markdown",
   "metadata": {},
   "source": [
    "# Multinomial Naive Bayes"
   ]
  },
  {
   "cell_type": "code",
   "execution_count": 40,
   "metadata": {},
   "outputs": [],
   "source": [
    "from sklearn.naive_bayes import MultinomialNB\n",
    "\n",
    "#instantiate multinomial naive bayes\n",
    "nb = MultinomialNB()\n",
    "\n",
    "pipe_nb = Pipeline([('scaler', sc), ('nb', nb)])"
   ]
  },
  {
   "cell_type": "code",
   "execution_count": 41,
   "metadata": {},
   "outputs": [
    {
     "name": "stderr",
     "output_type": "stream",
     "text": [
      "/anaconda3/lib/python3.7/site-packages/sklearn/preprocessing/data.py:323: DataConversionWarning: Data with input dtype uint8, int64, float64 were all converted to float64 by MinMaxScaler.\n",
      "  return self.partial_fit(X, y)\n"
     ]
    },
    {
     "data": {
      "text/plain": [
       "Pipeline(memory=None,\n",
       "     steps=[('scaler', MinMaxScaler(copy=True, feature_range=(0, 1))), ('nb', MultinomialNB(alpha=1.0, class_prior=None, fit_prior=True))])"
      ]
     },
     "execution_count": 41,
     "metadata": {},
     "output_type": "execute_result"
    }
   ],
   "source": [
    "# train model using the the transformed insantiated naive bayes model\n",
    "pipe_nb.fit(X_train, y_train)"
   ]
  },
  {
   "cell_type": "code",
   "execution_count": 42,
   "metadata": {},
   "outputs": [
    {
     "name": "stdout",
     "output_type": "stream",
     "text": [
      "No Skill ROC-AUC score: 0.50\n",
      "Linear Regression ROC-AUC score: 0.89\n",
      "Random Forest Classifier ROC-AUC score: 0.86\n",
      "Multinomial Naive Bayes ROC-AUC score: 0.67\n"
     ]
    },
    {
     "data": {
      "image/png": "[encoded data removed]",
      "text/plain": [
       "<Figure size 1080x576 with 1 Axes>"
      ]
     },
     "metadata": {},
     "output_type": "display_data"
    }
   ],
   "source": [
    "# predict probabilites and keep only positive outcomes\n",
    "test_probas_nb = pipe_nb.predict_proba(X_test)[:,1]\n",
    "\n",
    "\n",
    "# calculate scores\n",
    "nb_auc = roc_auc_score(y_test, test_probas_nb)\n",
    "\n",
    "print('No Skill ROC-AUC score: %.2f' % ns_auc)\n",
    "print('Linear Regression ROC-AUC score: %.2f' % lr_auc)\n",
    "print('Random Forest Classifier ROC-AUC score: %.2f' % rfc_auc)\n",
    "print('Multinomial Naive Bayes ROC-AUC score: %.2f' % nb_auc)\n",
    "\n",
    "\n",
    "\n",
    "# calculate roc curves\n",
    "nb_fpr, nb_tpr, _ = roc_curve(y_test, test_probas_nb)\n",
    "\n",
    "# plot the roc curve for the model\n",
    "plt.plot(ns_fpr, ns_tpr, linestyle='--', label='No Skill')\n",
    "plt.plot(lr_fpr, lr_tpr, linestyle='--', label=\"Logistic Regression\", color='red')\n",
    "plt.plot(rfc_fpr, rfc_tpr, linestyle='--', label=\"Random Forest Classifier\", color='green')\n",
    "plt.plot(nb_fpr, nb_tpr, linestyle='--', label='Naive Bayes', color='purple')\n",
    "\n",
    "\n",
    "# axis labels\n",
    "plt.xlabel('False Positive Rate')\n",
    "plt.ylabel('True Positive Rate')\n",
    "# show the legend\n",
    "plt.legend()\n",
    "# show the plot\n",
    "plt.show()"
   ]
  },
  {
   "cell_type": "markdown",
   "metadata": {},
   "source": [
    "It seems multinomial naive bayes scored the lowest, most likely due to the class imbalance of `loan_status`.\n",
    "\n",
    "# Conclusion\n",
    "\n",
    "Preliminarly we are able to create prediction models with decent accuracy. We should focus on logistic regression and random forest classification considering they scored higher with little modification. For logistic regression we could try issuing a penalty to the data to further help with our class imbalance, implement different class balancer ratio's again to help with class balancing, and feature engineering to combine certain columns that were dropped. For random forest classification we could change the number of estimators, change the leaf structure, the number of jobs, and create more categorical variables from previously dropped columns. Naive-Bayes may be the wrong model for this problem, it could be that each variable does not have strong independence from one another, which makes sense considering that borrowers with higher incomes or longer employment lengths are more likely to recieve loans with lower interest rates. \n",
    "\n",
    "We could also do some operations to the input data as far as removing outliers, refiling missing values with mean for columns that potentially have more correlation with the target variable, and creating new features. Creating new features in particular could help reduce the sheer amount of data as well. We could also try and find more correlations through a detailed analysis of LC's company history and connect this with general market trends for low capitol personal investments.\n",
    "\n",
    "The next steps are to refine the model, implement the model on current data, and create a preliminary investment plan. "
   ]
  }
 ],
 "metadata": {
  "kernelspec": {
   "display_name": "Python 3",
   "language": "python",
   "name": "python3"
  },
  "language_info": {
   "codemirror_mode": {
    "name": "ipython",
    "version": 3
   },
   "file_extension": ".py",
   "mimetype": "text/x-python",
   "name": "python",
   "nbconvert_exporter": "python",
   "pygments_lexer": "ipython3",
   "version": "3.7.4"
  }
 },
 "nbformat": 4,
 "nbformat_minor": 2
}
